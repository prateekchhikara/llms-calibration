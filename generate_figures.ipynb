{
 "cells": [
  {
   "cell_type": "code",
   "execution_count": 1,
   "metadata": {},
   "outputs": [],
   "source": [
    "from openai import OpenAI\n",
    "import json\n",
    "import pandas as pd\n",
    "from jinja2 import Template\n",
    "from tqdm import tqdm\n",
    "import numpy as np\n",
    "\n",
    "import numpy as np\n",
    "import matplotlib.pyplot as plt\n",
    "import matplotlib.colors as mcolors\n",
    "import seaborn as sns\n",
    "from typing import Union\n",
    "\n",
    "\n",
    "plt.rcParams.update({'font.size': 13})"
   ]
  },
  {
   "cell_type": "markdown",
   "metadata": {},
   "source": [
    "# Model Selection"
   ]
  },
  {
   "cell_type": "code",
   "execution_count": 2,
   "metadata": {},
   "outputs": [],
   "source": [
    "model_name = \"gpt-4o-mini\"\n",
    "# model_name = \"gpt-4-turbo\"\n",
    "# model_name = \"gemma2-9b-it\"\n",
    "# model_name = \"gpt-4o\"\n",
    "# model_name = \"llama3-8b-8192\"\n",
    "# model_name = \"llama-3.1-8b-instant\""
   ]
  },
  {
   "cell_type": "code",
   "execution_count": 3,
   "metadata": {},
   "outputs": [],
   "source": [
    "normal_results_path = f\"results/{model_name}_normal_0_20_results.json\"\n",
    "distractors_result_path = f\"results/{model_name}_distractors_0_20_results.json\""
   ]
  },
  {
   "cell_type": "code",
   "execution_count": 4,
   "metadata": {},
   "outputs": [],
   "source": [
    "with open(normal_results_path, 'r') as f:\n",
    "    normal_results = json.load(f)\n",
    "\n",
    "with open(distractors_result_path, 'r') as f:\n",
    "    distractors_result = json.load(f)"
   ]
  },
  {
   "cell_type": "code",
   "execution_count": 5,
   "metadata": {},
   "outputs": [
    {
     "data": {
      "text/plain": [
       "(20, 20)"
      ]
     },
     "execution_count": 5,
     "metadata": {},
     "output_type": "execute_result"
    }
   ],
   "source": [
    "len(normal_results), len(distractors_result)"
   ]
  },
  {
   "cell_type": "code",
   "execution_count": 6,
   "metadata": {},
   "outputs": [
    {
     "data": {
      "text/plain": [
       "['#41049d', '#a11b9b', '#ea7457', '#fcce25']"
      ]
     },
     "execution_count": 6,
     "metadata": {},
     "output_type": "execute_result"
    }
   ],
   "source": [
    "def get_color_from_cmap(value: float, group_name: str) -> Union[str, None]:\n",
    "    if 0 <= value <= 1:\n",
    "        try:\n",
    "            cmap = plt.get_cmap(group_name)\n",
    "            rgba = cmap(value)\n",
    "            hex_color = mcolors.rgb2hex(rgba)\n",
    "            return hex_color\n",
    "        except ValueError:\n",
    "            print(f\"Colormap '{group_name}' is not recognized.\")\n",
    "            return None\n",
    "    else:\n",
    "        print(\"Value should be between 0 and 1.\")\n",
    "        return None\n",
    "    \n",
    "colors_for_datasets = [get_color_from_cmap(i, 'plasma') for i in [0.1, 0.35, 0.65, 0.9]]\n",
    "colors_for_datasets"
   ]
  },
  {
   "cell_type": "markdown",
   "metadata": {},
   "source": [
    "# Reliability Diagram"
   ]
  },
  {
   "cell_type": "code",
   "execution_count": 7,
   "metadata": {},
   "outputs": [],
   "source": [
    "def plot_calibration_diagram(json_data1, json_data2):\n",
    "    def extract_confidences_and_accuracies(json_data):\n",
    "        # Load JSON data if it's a string\n",
    "        if isinstance(json_data, str):\n",
    "            json_data = json.loads(json_data)\n",
    "        \n",
    "        confidences = []\n",
    "        accuracies = []\n",
    "        \n",
    "        # Extract confidence and correctness\n",
    "        for key, value in json_data.items():\n",
    "            if value[\"output\"] != -1:\n",
    "                confidences.append(value[\"confidence\"])\n",
    "                accuracies.append(value[\"output\"])\n",
    "        \n",
    "        return np.array(confidences), np.array(accuracies)\n",
    "    \n",
    "    confidences1, accuracies1 = extract_confidences_and_accuracies(json_data1)\n",
    "    confidences2, accuracies2 = extract_confidences_and_accuracies(json_data2)\n",
    "    bins = np.arange(0, 101, 10)  # Bins from 0 to 100 in steps of 10\n",
    "    bin_centers = (bins[:-1] + bins[1:]) / 2\n",
    "\n",
    "    \n",
    "    counts1, _ = np.histogram(confidences1[accuracies1 == 1], bins=bins)\n",
    "    counts2, _ = np.histogram(confidences2[accuracies2 == 1], bins=bins)\n",
    "    counts = np.array([counts1, counts2])\n",
    "\n",
    "    def calculate_actual_accuracy(confidences, accuracies):\n",
    "        actual_accuracy = []\n",
    "        for i in range(len(bins) - 1):\n",
    "            mask = (confidences >= bins[i]) & (confidences < bins[i + 1])\n",
    "            if np.sum(mask) > 0:\n",
    "                actual_accuracy.append(np.mean(accuracies[mask]))\n",
    "            else:\n",
    "                actual_accuracy.append(0)  # Use 0 for empty bins to avoid NoneType issues\n",
    "        return actual_accuracy\n",
    "    \n",
    "    # plt.rcParams['font.family'] = 'Times New Roman'\n",
    "    \n",
    "    # Add values on top of histogram bars\n",
    "    actual_accuracy1 = calculate_actual_accuracy(confidences1, accuracies1)\n",
    "    actual_accuracy2 = calculate_actual_accuracy(confidences2, accuracies2)\n",
    "    \n",
    "    for i, count in enumerate(counts1):\n",
    "        if count > 0:\n",
    "            plt.text(bin_centers[i] - 2, actual_accuracy1[i] + 0.05, str(count), ha='center', va='bottom', fontsize=12, fontweight='bold', rotation=90, bbox=dict(facecolor='black', edgecolor='black', alpha=1.0), color='white')\n",
    "    for i, count in enumerate(counts2):\n",
    "        if count > 0:\n",
    "            plt.text(bin_centers[i] + 2, actual_accuracy2[i] + 0.05, str(count), ha='center', va='bottom', fontsize=12, fontweight='bold', rotation=90, bbox=dict(facecolor='black', edgecolor='black', alpha=1.0), color='white')\n",
    "    \n",
    "    sns.set(style=\"whitegrid\")\n",
    "    colors_for_datasets = [get_color_from_cmap(i, 'plasma') for i in [0.1, 0.35, 0.65, 0.9]]\n",
    "    plt.bar(bin_centers - 2, actual_accuracy1, width=4, color=colors_for_datasets[1], label='Original', edgecolor='black', hatch='xx')\n",
    "    plt.bar(bin_centers + 2, actual_accuracy2, width=4, color=colors_for_datasets[3], label='Distractors', edgecolor='black', hatch='o')\n",
    "    plt.plot([0, 100], [0, 1], 'r--', linewidth=2, label='Perfect Calibration')\n",
    "    # plt.xlabel('Predicted Confidence (%)', fontsize=14, fontweight='bold')\n",
    "    # plt.ylabel('Actual Accuracy', fontsize=14, fontweight='bold')\n",
    "    plt.title(f'{model_name}', fontsize=18, family='Times New Roman')\n",
    "    plt.xticks(fontsize=16, family='Times New Roman')\n",
    "    plt.yticks(fontsize=16, family='Times New Roman')\n",
    "    plt.grid(True, linestyle='--', alpha=0.7)\n",
    "    \n",
    "    # Print x dotted line after each 10 point interval\n",
    "    for x in range(10, 101, 10):\n",
    "        plt.axvline(x=x, color='black', linestyle=':', linewidth=1)\n",
    "    \n",
    "    # plt.legend(loc='best', fontsize=12)\n",
    "    plt.tight_layout()\n",
    "    \n",
    "    # Create a solid black border around the chart\n",
    "    plt.gca().spines['top'].set_linewidth(0.5)\n",
    "    plt.gca().spines['top'].set_color('black')\n",
    "    plt.gca().spines['right'].set_linewidth(0.5)\n",
    "    plt.gca().spines['right'].set_color('black')\n",
    "    plt.gca().spines['left'].set_linewidth(0.5)\n",
    "    plt.gca().spines['left'].set_color('black')\n",
    "    plt.gca().spines['bottom'].set_linewidth(0.5)\n",
    "    plt.gca().spines['bottom'].set_color('black')\n",
    "\n",
    "    # save pdf \n",
    "    plt.savefig(f'figures/{model_name}.pdf', format='pdf', dpi=300)\n",
    "    \n",
    "    plt.show()"
   ]
  },
  {
   "cell_type": "code",
   "execution_count": 8,
   "metadata": {},
   "outputs": [
    {
     "data": {
      "image/png": "[encoded data removed]",
      "text/plain": [
       "<Figure size 640x480 with 1 Axes>"
      ]
     },
     "metadata": {},
     "output_type": "display_data"
    }
   ],
   "source": [
    "plot_calibration_diagram(normal_results, distractors_result)"
   ]
  },
  {
   "cell_type": "markdown",
   "metadata": {},
   "source": [
    "# Accuracy"
   ]
  },
  {
   "cell_type": "code",
   "execution_count": 9,
   "metadata": {},
   "outputs": [
    {
     "name": "stdout",
     "output_type": "stream",
     "text": [
      "Total correct predictions for original model: 2\n",
      "Total correct predictions for distractors model: 11\n",
      "--------------------------------\n",
      "Total wrong predictions for original model: 17\n",
      "Total wrong predictions for distractors model: 9\n",
      "--------------------------------\n",
      "Total none predictions for original model: 1\n",
      "Total none predictions for distractors model: 0\n",
      "--------------------------------\n",
      "Accuracy of original model: 10.0 %\n",
      "Accuracy of distractors model: 55.0 %\n",
      "--------------------------------\n",
      "Accuracy of no predictions for original model: 5.0 %\n",
      "Accuracy of no predictions for distractors model: 0.0 %\n"
     ]
    }
   ],
   "source": [
    "correct_1 = 0\n",
    "correct_2 = 0\n",
    "none_1 = 0\n",
    "\n",
    "\n",
    "wrong_1 = 0\n",
    "wrong_2 = 0\n",
    "none_2 = 0\n",
    "\n",
    "for key, value in normal_results.items():\n",
    "    if value[\"output\"] == 1:\n",
    "        correct_1 += 1\n",
    "    elif value[\"output\"] == 0:\n",
    "        wrong_1 += 1\n",
    "    elif value[\"output\"] == -1:\n",
    "        none_1 += 1\n",
    "\n",
    "for key, value in distractors_result.items():\n",
    "    if value[\"output\"] == 1:\n",
    "        correct_2 += 1\n",
    "    elif value[\"output\"] == 0:\n",
    "        wrong_2 += 1\n",
    "    elif value[\"output\"] == -1:\n",
    "        none_2 += 1\n",
    "\n",
    "print(\"Total correct predictions for original model:\", correct_1)\n",
    "print(\"Total correct predictions for distractors model:\", correct_2)\n",
    "print(\"--------------------------------\")\n",
    "print(\"Total wrong predictions for original model:\", wrong_1)\n",
    "print(\"Total wrong predictions for distractors model:\", wrong_2)\n",
    "print(\"--------------------------------\")\n",
    "print(\"Total none predictions for original model:\", none_1)\n",
    "print(\"Total none predictions for distractors model:\", none_2)\n",
    "print(\"--------------------------------\")\n",
    "print(\"Accuracy of original model:\", round((correct_1 / len(normal_results)) * 100, 2), \"%\")\n",
    "print(\"Accuracy of distractors model:\", round((correct_2 / len(distractors_result)) * 100, 2), \"%\")\n",
    "print(\"--------------------------------\")\n",
    "print(\"Accuracy of no predictions for original model:\", round((none_1 / len(normal_results)) * 100, 2), \"%\")\n",
    "print(\"Accuracy of no predictions for distractors model:\", round((none_2 / len(distractors_result)) * 100, 2), \"%\")"
   ]
  },
  {
   "cell_type": "markdown",
   "metadata": {},
   "source": [
    "# ECE plot"
   ]
  },
  {
   "cell_type": "code",
   "execution_count": 10,
   "metadata": {},
   "outputs": [],
   "source": [
    "def calculate_ece(probabilities, predictions, bin_width=10):\n",
    "    \"\"\"\n",
    "    Calculate Expected Calibration Error (ECE) given probabilities and predictions.\n",
    "    \n",
    "    :param probabilities: List of predicted probabilities (in percentage, 0-100 scale).\n",
    "    :param predictions: List of binary correctness labels (1 if correct, 0 if incorrect).\n",
    "    :param bin_width: Width of probability bins (default is 10).\n",
    "    :return: ECE value.\n",
    "    \"\"\"\n",
    "    probabilities = np.array(probabilities) / 100.0  # Convert to 0-1 scale\n",
    "    predictions = np.array(predictions)\n",
    "    \n",
    "    bins = np.arange(0, 1.1, bin_width / 100.0)  # Define bins from 0 to 1\n",
    "    bin_indices = np.digitize(probabilities, bins) - 1  # Find bin indices\n",
    "    \n",
    "    ece = 0.0\n",
    "    total_samples = len(probabilities)\n",
    "\n",
    "    for i in range(len(bins) - 1):\n",
    "        bin_mask = bin_indices == i\n",
    "        bin_size = np.sum(bin_mask)\n",
    "\n",
    "        if bin_size > 0:\n",
    "            accuracy = np.mean(predictions[bin_mask])\n",
    "            confidence = np.mean(probabilities[bin_mask])\n",
    "            bin_weight = bin_size / total_samples\n",
    "            ece += bin_weight * abs(accuracy - confidence)\n",
    "\n",
    "    return ece"
   ]
  },
  {
   "cell_type": "code",
   "execution_count": 11,
   "metadata": {},
   "outputs": [
    {
     "name": "stdout",
     "output_type": "stream",
     "text": [
      "20 20\n"
     ]
    }
   ],
   "source": [
    "print(len(normal_results), len(distractors_result))"
   ]
  },
  {
   "cell_type": "code",
   "execution_count": 12,
   "metadata": {},
   "outputs": [
    {
     "name": "stdout",
     "output_type": "stream",
     "text": [
      "ECE for original model: 0.705\n",
      "ECE for distractors model: 0.283\n"
     ]
    }
   ],
   "source": [
    "normal_results_confidence = []\n",
    "normal_results_predictions = []\n",
    "\n",
    "for key, value in normal_results.items():\n",
    "    normal_results_confidence.append(value[\"confidence\"])\n",
    "    normal_results_predictions.append(value[\"output\"])\n",
    "\n",
    "ece_value = calculate_ece(normal_results_confidence, normal_results_predictions)\n",
    "print(\"ECE for original model:\", round(ece_value, 3))\n",
    "\n",
    "distractors_results_confidence = []\n",
    "distractors_results_predictions = []\n",
    "\n",
    "for key, value in distractors_result.items():\n",
    "    distractors_results_confidence.append(value[\"confidence\"])\n",
    "    distractors_results_predictions.append(value[\"output\"])\n",
    "\n",
    "ece_value = calculate_ece(distractors_results_confidence, distractors_results_predictions)\n",
    "print(\"ECE for distractors model:\", round(ece_value, 3))"
   ]
  },
  {
   "cell_type": "markdown",
   "metadata": {},
   "source": [
    "# D_helped and D_harmed"
   ]
  },
  {
   "cell_type": "code",
   "execution_count": 13,
   "metadata": {},
   "outputs": [],
   "source": [
    "if len(normal_results) != len(distractors_result):\n",
    "    raise ValueError(\"Normal results should not be greater than distractors results\")"
   ]
  },
  {
   "cell_type": "code",
   "execution_count": 14,
   "metadata": {},
   "outputs": [
    {
     "name": "stderr",
     "output_type": "stream",
     "text": [
      "100%|██████████| 20/20 [00:00<00:00, 234975.01it/s]"
     ]
    },
    {
     "name": "stdout",
     "output_type": "stream",
     "text": [
      "D helped count: 10\n",
      "D hurt count: 1\n",
      "D helped percentage: 90.91 %\n",
      "D hurt percentage: 9.09 %\n"
     ]
    },
    {
     "name": "stderr",
     "output_type": "stream",
     "text": [
      "\n"
     ]
    }
   ],
   "source": [
    "d_helped_count = 0\n",
    "d_hurt_count = 0\n",
    "\n",
    "from tqdm import tqdm\n",
    "\n",
    "for i in tqdm(range(len(normal_results))):\n",
    "    try:\n",
    "        normal_output_value = normal_results[str(i)][\"output\"]\n",
    "        distractors_output_value = distractors_result[str(i)][\"output\"]\n",
    "    except:\n",
    "        continue\n",
    "    # if D helped\n",
    "    if normal_output_value == 0 and distractors_output_value == 1:\n",
    "        d_helped_count += 1\n",
    "\n",
    "    # if D hurt\n",
    "    if normal_output_value == 1 and distractors_output_value == 0:\n",
    "        d_hurt_count += 1\n",
    "\n",
    "print(\"D helped count:\", d_helped_count)\n",
    "print(\"D hurt count:\", d_hurt_count)\n",
    "\n",
    "print(\"D helped percentage:\", round((d_helped_count / (d_helped_count + d_hurt_count)) * 100, 2), \"%\")\n",
    "print(\"D hurt percentage:\", round((d_hurt_count / (d_helped_count + d_hurt_count)) * 100, 2), \"%\")\n"
   ]
  },
  {
   "cell_type": "code",
   "execution_count": null,
   "metadata": {},
   "outputs": [],
   "source": []
  },
  {
   "cell_type": "code",
   "execution_count": null,
   "metadata": {},
   "outputs": [],
   "source": []
  },
  {
   "cell_type": "code",
   "execution_count": null,
   "metadata": {},
   "outputs": [],
   "source": []
  },
  {
   "cell_type": "code",
   "execution_count": null,
   "metadata": {},
   "outputs": [],
   "source": []
  }
 ],
 "metadata": {
  "kernelspec": {
   "display_name": "base",
   "language": "python",
   "name": "python3"
  },
  "language_info": {
   "codemirror_mode": {
    "name": "ipython",
    "version": 3
   },
   "file_extension": ".py",
   "mimetype": "text/x-python",
   "name": "python",
   "nbconvert_exporter": "python",
   "pygments_lexer": "ipython3",
   "version": "3.11.5"
  }
 },
 "nbformat": 4,
 "nbformat_minor": 2
}
